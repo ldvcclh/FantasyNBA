{
 "cells": [
  {
   "metadata": {
    "ExecuteTime": {
     "end_time": "2024-12-17T14:21:17.054812Z",
     "start_time": "2024-12-17T14:21:17.037055Z"
    }
   },
   "cell_type": "code",
   "source": [
    "from bs4 import BeautifulSoup \n",
    "import requests\n",
    "import pandas as pd\n",
    "from mVariables import team_dictionary, month_list, month_dictionary"
   ],
   "id": "c4545ada25ea0c69",
   "outputs": [],
   "execution_count": 4
  },
  {
   "metadata": {
    "ExecuteTime": {
     "end_time": "2024-12-17T19:26:27.234141Z",
     "start_time": "2024-12-17T19:26:27.201319Z"
    }
   },
   "cell_type": "code",
   "source": [
    "def season_stats_getter(start_url):\n",
    "    '''\n",
    "    This function uses basketballreference.com as its retriever.  \n",
    "    Go to the website, and find the season you would like to scrape.  \n",
    "    Then click on the first month given in the season (october)\n",
    "    After inputting this link, the program and determine the season and months given, \n",
    "    and will scrape each box_score link on each month-page. It will also create a csv that \n",
    "    '''\n",
    "    \n",
    "    # GET MONTHS\n",
    "    base_url = 'https://www.basketball-reference.com'   #used for formatting each link correctly\n",
    "    month_link_array = []\n",
    "    response = requests.get(start_url)\n",
    "    soup = BeautifulSoup(response.text, 'html.parser')\n",
    "    # Extract season in h1 element\n",
    "    season = soup.find('h1').text\n",
    "    # Stock season\n",
    "    season = season.strip().split(' ')\n",
    "    season = season[0]\n",
    "    # In body find all hypertext link\n",
    "    body = soup.findAll('body')\n",
    "    months = body[0].findAll('a', href = True)\n",
    "    # Fink link with each month and stock it\n",
    "    for i in months:\n",
    "        if i.text.lower() in month_list:\n",
    "            i = (i.text, f'{base_url}{i[\"href\"]}')\n",
    "            month_link_array.append(i)  #appending the url for each page to scrape\n",
    "    #iterating through each month url to scrape the data\n",
    "    page_tocheck_dict = {'Month': [], 'Url': [], 'Index': []}\n",
    "    box_link_array = []\n",
    "    all_dates = []\n",
    "    \n",
    "    # GET GAMES LINKS\n",
    "    print(month_link_array)\n",
    "    for month, page in month_link_array:\n",
    "        page_link_array = []\n",
    "        page_date_array = []\n",
    "        response = requests.get(page)\n",
    "        soup = BeautifulSoup(response.text, 'html.parser')\n",
    "        table = soup.findAll('tbody')\n",
    "        box_scores = table[0].findAll('a', href=True)\n",
    "        for i in box_scores:\n",
    "            if i.text.strip() == 'Box Score':\n",
    "                page_link_array.append(f'{base_url}{i[\"href\"]}')\n",
    "            if ',' in i.text.strip():\n",
    "                date = i.text.strip()\n",
    "                date = date.split(', ')\n",
    "                year = date[2]\n",
    "                date = date[1].split(' ')\n",
    "                day = f'0{date[1]}' if len(date[1]) ==1 else date[1]\n",
    "                mon = month_dictionary[date[0]]\n",
    "                date = f'{year}{mon}{day}'\n",
    "                page_date_array.append(date)\n",
    "        if len(page_link_array) == 0 or len(box_scores)/len(page_link_array) != 4:\n",
    "            page_tocheck_dict['Url'].append(page)\n",
    "            page_tocheck_dict['Month'].append(month)\n",
    "            page_tocheck_dict['Index'].append(len(page_link_array))\n",
    "        else:\n",
    "            page_tocheck_dict['Url'].append(page)\n",
    "            page_tocheck_dict['Month'].append(month)\n",
    "            page_tocheck_dict['Index'].append(None)\n",
    "        box_link_array.append(page_link_array)\n",
    "        all_dates.append(page_date_array)\n",
    "        \n",
    "        return box_link_array\n",
    "    "
   ],
   "id": "602e4f0a8f699097",
   "outputs": [],
   "execution_count": 44
  },
  {
   "metadata": {},
   "cell_type": "markdown",
   "source": [
    "https://www.basketball-reference.com/leagues/NBA_2023_games.html\n",
    "\n",
    "https://www.basketball-reference.com/leagues/NBA_2023_games-october.html\n",
    "\n"
   ],
   "id": "dde9ec793b9b2a1c"
  },
  {
   "metadata": {
    "ExecuteTime": {
     "end_time": "2024-12-17T19:26:28.667549Z",
     "start_time": "2024-12-17T19:26:28.550189Z"
    }
   },
   "cell_type": "code",
   "source": [
    "url ='https://www.basketball-reference.com/leagues/NBA_2022_games.html'\n",
    "box_link_array = season_stats_getter(url)"
   ],
   "id": "1f68ce8ed0e8bb4a",
   "outputs": [
    {
     "name": "stdout",
     "output_type": "stream",
     "text": [
      "[]\n"
     ]
    }
   ],
   "execution_count": 45
  },
  {
   "metadata": {
    "ExecuteTime": {
     "end_time": "2024-12-17T19:26:31.498165Z",
     "start_time": "2024-12-17T19:26:31.446335Z"
    }
   },
   "cell_type": "code",
   "source": "print(box_link_array[0][0])",
   "id": "8e4e7dc13abecd87",
   "outputs": [
    {
     "ename": "TypeError",
     "evalue": "'NoneType' object is not subscriptable",
     "output_type": "error",
     "traceback": [
      "\u001B[0;31m---------------------------------------------------------------------------\u001B[0m",
      "\u001B[0;31mTypeError\u001B[0m                                 Traceback (most recent call last)",
      "Cell \u001B[0;32mIn[46], line 1\u001B[0m\n\u001B[0;32m----> 1\u001B[0m \u001B[38;5;28mprint\u001B[39m(\u001B[43mbox_link_array\u001B[49m\u001B[43m[\u001B[49m\u001B[38;5;241;43m0\u001B[39;49m\u001B[43m]\u001B[49m[\u001B[38;5;241m0\u001B[39m])\n",
      "\u001B[0;31mTypeError\u001B[0m: 'NoneType' object is not subscriptable"
     ]
    }
   ],
   "execution_count": 46
  },
  {
   "metadata": {},
   "cell_type": "code",
   "outputs": [],
   "execution_count": null,
   "source": "",
   "id": "c1c9f15c7f4c515a"
  }
 ],
 "metadata": {
  "kernelspec": {
   "display_name": "Python 3 (ipykernel)",
   "language": "python",
   "name": "python3"
  },
  "language_info": {
   "codemirror_mode": {
    "name": "ipython",
    "version": 2
   },
   "file_extension": ".py",
   "mimetype": "text/x-python",
   "name": "python",
   "nbconvert_exporter": "python",
   "pygments_lexer": "ipython2",
   "version": "2.7.6"
  }
 },
 "nbformat": 4,
 "nbformat_minor": 5
}
